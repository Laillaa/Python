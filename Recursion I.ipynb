{
 "cells": [
  {
   "cell_type": "markdown",
   "id": "ff2eb965",
   "metadata": {},
   "source": [
    "# Recursion I"
   ]
  },
  {
   "cell_type": "markdown",
   "id": "f4caa6ca-084e-45ea-bf26-9ce9ea4c4667",
   "metadata": {
    "id": "f4caa6ca-084e-45ea-bf26-9ce9ea4c4667"
   },
   "source": [
    "## Exercice 1\n",
    "Implémentez une méthode récursive qui trouve et retourne le plus petit élément d'une liste, où la liste et sa taille sont données en paramètre."
   ]
  },
  {
   "cell_type": "code",
   "execution_count": null,
   "id": "d76d206b-89e0-44f4-bf0d-10f223950c2a",
   "metadata": {
    "id": "d76d206b-89e0-44f4-bf0d-10f223950c2a"
   },
   "outputs": [],
   "source": [
    "# Le problème c'est que je crois pas que c'est récursif \n",
    "# parce que je ne rappel pas la methode dans elle-même\n",
    "def minEl(m, s: int):\n",
    "    # Cas de base\n",
    "    if s == 1:\n",
    "        return m\n",
    "    # Les autres cas\n",
    "    if s > 1:\n",
    "       k = (m[0]+m[-1])//2\n",
    "       pivot = m[k]\n",
    "       for i in range(s):\n",
    "           petit = 0\n",
    "           if m[i] > pivot:\n",
    "               petit = pivot\n",
    "           elif m[i] < pivot :\n",
    "               petit = m[i]\n",
    "       return petit\n",
    "              \n",
    "    return None"
   ]
  },
  {
   "cell_type": "code",
   "execution_count": 89,
   "id": "6a8cac90",
   "metadata": {},
   "outputs": [],
   "source": [
    "# J'ai demandé à Gemeni ai de me générer le code pour répondre à la question \n",
    "# pour voir qu'est ce que ça me donne (et ça a l'air plus recursif que ce \n",
    "# que j'ai fais)\n",
    "def minEl(m, s: int):\n",
    "    \"\"\"Finds the minimum element in a list recursively.\n",
    "\n",
    "    Args:\n",
    "        m: The list of elements.\n",
    "        s: The size of the list.\n",
    "\n",
    "    Returns:\n",
    "        The minimum element in the list.\n",
    "    \"\"\"\n",
    "\n",
    "    # Base case: If the list has only one element, return it.\n",
    "    if s == 1:\n",
    "        return m[0]\n",
    "\n",
    "    # Recursive case: Compare the first element with the minimum of the rest of the list.\n",
    "    return min(m[0], minEl(m[1:], s-1))"
   ]
  },
  {
   "cell_type": "code",
   "execution_count": 3,
   "id": "9840b56f",
   "metadata": {},
   "outputs": [],
   "source": [
    "# Une autre version, utilisant aussi Gemini  ai (Cette fois, je lui ai donné \n",
    "# le code que j'ai ecris et lui ai demande de l'ecrire de maniere recursive)\n",
    "def minEl(m, s: int):\n",
    "    \"\"\"Finds the smallest element in a list recursively.\n",
    "\n",
    "    Args:\n",
    "        m: The list of elements.\n",
    "        s: The size of the list.\n",
    "\n",
    "    Returns:\n",
    "        The smallest element in the list.\n",
    "    \"\"\"\n",
    "\n",
    "    # Base case: If the list has only one element, return it.\n",
    "    if s == 1:\n",
    "        return m[0]\n",
    "\n",
    "    # Recursive case: Divide the list into two halves, find the minimum of each half,\n",
    "    # and return the smaller of the two minima.\n",
    "    mid = s // 2\n",
    "    left_min = minEl(m[:mid], mid)\n",
    "    right_min = minEl(m[mid:], s - mid)\n",
    "    return min(left_min, right_min)\n"
   ]
  },
  {
   "cell_type": "code",
   "execution_count": 4,
   "id": "f3963a0f-8fda-4321-ab94-8856103945c9",
   "metadata": {
    "id": "f3963a0f-8fda-4321-ab94-8856103945c9"
   },
   "outputs": [],
   "source": [
    "assert minEl([6,5,3,9,1], 5) == 1\n",
    "assert minEl([6,5,3,-9,1], 5) == -9\n",
    "assert not minEl([6,5,3,-9,1], 5) == 1"
   ]
  },
  {
   "cell_type": "markdown",
   "id": "4f21166a-1dff-44fe-87fa-97721ca66713",
   "metadata": {
    "id": "4f21166a-1dff-44fe-87fa-97721ca66713"
   },
   "source": [
    "### Explications"
   ]
  },
  {
   "cell_type": "markdown",
   "id": "9181abe7",
   "metadata": {},
   "source": [
    "Code n.1\n",
    "\n",
    "1. Cas de base :\n",
    "Si la liste n'est composée que d'un seul élément, on retourne la liste.\n",
    "2. Les autres cas:\n",
    "Si la liste est composée d'un nombre d'éléments > 1, on met en place un pivot qui servira comme point de référence. La boucle for permet de passer en revu tous les éléments de la liste. Si l'élément observé à l'indice i est plus grand que le pivot, on considère le pivot comme le nombre le plus petit. Et si c'est le cas contraire, alors on considère ce nombre comme le nombre le plus petit.\n",
    "\n",
    "Code n.2\n",
    "\n",
    "1. Base Case: \n",
    "When the list has only one element (size is 1), it's automatically the smallest. So, we return it.\n",
    "2. Recursive Case:\n",
    "We compare the first element (m[0]) with the minimum of the rest of the list (minEl(m[1:], s-1)).\n",
    "The m[1:] part creates a new list starting from the second element.\n",
    "The s-1 part indicates that the size of the new list is one less.\n",
    "We use the min function to find the smaller of the two values.\n",
    "\n",
    "Code n.3\n",
    "\n",
    "1. Base Case: \n",
    "When the list has only one element (size is 1), it's automatically the smallest. So, we return it.\n",
    "2. Recursive Case:\n",
    "We divide the list into two halves using mid = s // 2.\n",
    "We recursively find the minimum of the left half (left_min = minEl(m[:mid], mid)) and the right half (right_min = minEl(m[mid:], s - mid)).\n",
    "We return the smaller of the two minima using min(left_min, right_min).\n",
    "This recursive approach is more efficient than the original iterative one, especially for large lists, as it reduces the number of comparisons."
   ]
  },
  {
   "cell_type": "markdown",
   "id": "07be6c36-643f-4951-b68c-8b792565eda7",
   "metadata": {
    "id": "07be6c36-643f-4951-b68c-8b792565eda7"
   },
   "source": [
    "## Exercice 2\n",
    "La \"Fonction 91 de McCarthy\" est définie comme suit:\n",
    "\n",
    "    M(n) for integers > 0:\n",
    "      if n > 100, M(n) = n - 10\n",
    "      if n <= 100, M(n) = M(M(n+11))\n",
    "\n",
    "La notation `M(M(n+11))` est un appel récursif imbriqué.\n",
    "\n",
    "Implémentez et testez une méthode python qui retourne le nombre de McCarthy."
   ]
  },
  {
   "cell_type": "code",
   "execution_count": 16,
   "id": "DaJgTPL5rjSr",
   "metadata": {
    "id": "DaJgTPL5rjSr"
   },
   "outputs": [],
   "source": [
    "def mcCarthy(n: int):\n",
    "    # Cas de base\n",
    "    if n > 100:\n",
    "        return n - 10\n",
    "    # Cas recursif\n",
    "    else:\n",
    "        return mcCarthy(mcCarthy(n + 11))\n",
    "    return None"
   ]
  },
  {
   "cell_type": "code",
   "execution_count": 2,
   "id": "NBgptqtXrlnR",
   "metadata": {
    "id": "NBgptqtXrlnR"
   },
   "outputs": [],
   "source": [
    "assert mcCarthy(91) == 91\n",
    "assert mcCarthy(101) == 91\n",
    "assert mcCarthy(102) == 92\n",
    "assert mcCarthy(104) == 94"
   ]
  },
  {
   "cell_type": "markdown",
   "id": "g0RAJOR2r1h8",
   "metadata": {
    "id": "g0RAJOR2r1h8"
   },
   "source": [
    "### Explications"
   ]
  },
  {
   "cell_type": "markdown",
   "id": "Zz15jFT2r3q5",
   "metadata": {
    "id": "Zz15jFT2r3q5"
   },
   "source": [
    "La \"Fonction 91 de McCarthy\" est une fonction récursive pour laquelle le paramètre n entré aura comme résultat 91 pour tout n =< 101. Pour tout n > 101, le résultat sera égale à n - 10. \n",
    "Le résultat sera toujours égale à 91 pour tout n =< 101 car comme le montre le code, on additionnera 11 à n jusqu'à arriver à 101. A ce moment, nous atteignerons le cas de base, allons soustraire 10 a 101 et auront 91 comme résultat. "
   ]
  },
  {
   "cell_type": "markdown",
   "id": "Eznl-QKzrrYJ",
   "metadata": {
    "id": "Eznl-QKzrrYJ"
   },
   "source": [
    "### Exercise 2.1\n",
    "Quels sont les nombres de McCarthy pour: 1, 15, 79, 99, 100, 101, 200 ?"
   ]
  },
  {
   "cell_type": "code",
   "execution_count": 17,
   "id": "67772db0",
   "metadata": {},
   "outputs": [],
   "source": [
    "assert mcCarthy(1) == 91\n",
    "assert mcCarthy(15) == 91\n",
    "assert mcCarthy(79) == 91\n",
    "assert mcCarthy(99) == 91\n",
    "assert mcCarthy(100) == 91\n",
    "assert mcCarthy(101) == 91\n",
    "assert mcCarthy(200) == 190"
   ]
  }
 ],
 "metadata": {
  "colab": {
   "provenance": []
  },
  "kernelspec": {
   "display_name": "Python 3",
   "language": "python",
   "name": "python3"
  },
  "language_info": {
   "codemirror_mode": {
    "name": "ipython",
    "version": 3
   },
   "file_extension": ".py",
   "mimetype": "text/x-python",
   "name": "python",
   "nbconvert_exporter": "python",
   "pygments_lexer": "ipython3",
   "version": "3.12.6"
  }
 },
 "nbformat": 4,
 "nbformat_minor": 5
}
