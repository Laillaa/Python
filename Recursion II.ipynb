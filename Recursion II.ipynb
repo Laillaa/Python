{
 "cells": [
  {
   "cell_type": "markdown",
   "id": "6fd8f932",
   "metadata": {},
   "source": [
    "# Recursion II"
   ]
  },
  {
   "cell_type": "markdown",
   "id": "9f41cffd",
   "metadata": {
    "id": "9f41cffd"
   },
   "source": [
    "## Exercice 1 - Multiplication de matrices\n",
    "Quelle est la condition sur la dimension de deux matrices pour effectuer leur multiplication ?"
   ]
  },
  {
   "cell_type": "markdown",
   "id": "9116ff06",
   "metadata": {
    "id": "9116ff06"
   },
   "source": [
    "Soit X et Y deux matrices. Pour pouvoir effectuer leur multiplication, leur dimension doit:\n",
    "1. Etre la même si les deux sont des matrices carrees (n x n) (ex: les deux sont des matrices 2x2, soit 3x3...)\n",
    "2. Sinon, le nombre de colonnes de la matrice X soit égale au nombre de lignes/rangées de la matrice Y (=> X = (m,n) et Y = (n,p))"
   ]
  },
  {
   "cell_type": "markdown",
   "id": "6btaAdtnLq3u",
   "metadata": {
    "id": "6btaAdtnLq3u"
   },
   "source": [
    "Implémenter le produit de matrices en utilisant des `list`. L'algorithme doit retourner `False` si les dimensions des matrices en argument ne sont pas compatible avec la multiplication (cela inclut de vérifier si l'input est une matrice !)"
   ]
  },
  {
   "cell_type": "code",
   "execution_count": 109,
   "id": "rHcUAC6xJ2vo",
   "metadata": {
    "id": "rHcUAC6xJ2vo"
   },
   "outputs": [],
   "source": [
    "def matrix_multiply(A, B):\n",
    "    m = len(A)\n",
    "    x = len(B)\n",
    "\n",
    "    # Step 1 : Verifier que l'input est une matrice\n",
    "\n",
    "    def verif(C, o): # C => l'input qu'on veut verifier\n",
    "        reference = len(C[0])\n",
    "        for i in range(o):\n",
    "            if len(C[i]) == reference:\n",
    "                 continue\n",
    "            elif len(C[i]) != reference:\n",
    "                return False\n",
    "    \n",
    "    verif(A,m)\n",
    "    verif(B,x)\n",
    "\n",
    "    # Step 2: Vérifier que les matrices peuvent être multipliées l'une à l'autre\n",
    "\n",
    "    if len(A[0]) != len(B):\n",
    "        return False\n",
    "        \n",
    "    # Step 3: Multiplication\n",
    "\n",
    "    result = [[0 for j in range(len(B[0]))] for i in range(len(A))] \n",
    "    # matrice résultante de la multiplication\n",
    "    if verif(A,m) == False:\n",
    "        exit\n",
    "    elif verif(B,x) == False:\n",
    "        exit\n",
    "    elif len(A[0]) != len(B):\n",
    "        exit\n",
    "    else:\n",
    "        for i in range(len(A)):\n",
    "            for j in range(len(B[0])):\n",
    "                for k in range(len(B)):\n",
    "                    result[i][j] += A[i][k] * B[k][j]\n",
    "        return result"
   ]
  },
  {
   "cell_type": "code",
   "execution_count": 110,
   "id": "Uoctp0m2KGAp",
   "metadata": {
    "id": "Uoctp0m2KGAp"
   },
   "outputs": [],
   "source": [
    "matrix_A = [[1, 2, 3],\n",
    "            [4, 5, 6]]\n",
    "matrix_B = [[7, 8],\n",
    "            [9, 10],\n",
    "            [11, 12]]\n",
    "result_matrix = matrix_multiply(matrix_A, matrix_B)\n",
    "assert result_matrix == [[58, 64], [139, 154]]\n",
    "\n",
    "matrix_C = [[1, 2, 4], [3, 4]]\n",
    "matrix_D = [[5, 6, 7], [8, 9, 10]]\n",
    "result_matrix = matrix_multiply(matrix_C, matrix_D)\n",
    "assert (result_matrix is False)\n",
    "\n",
    "matrix_E = [[1, 2, 4], [3, 4, 6]]\n",
    "matrix_F = [[5, 6], [8, 9]]\n",
    "result_matrix = matrix_multiply(matrix_E, matrix_F)\n",
    "assert result_matrix is False\n",
    "\n",
    "matrix_G = [[1, 2, 3], [4, 5, 6], [7, 8, 9]]\n",
    "identity_matrix = [[1, 0, 0], [0, 1, 0], [0, 0, 1]]\n",
    "result_matrix = matrix_multiply(matrix_G, identity_matrix)\n",
    "assert result_matrix == matrix_G"
   ]
  },
  {
   "cell_type": "markdown",
   "id": "se01VfxiojAz",
   "metadata": {
    "id": "se01VfxiojAz"
   },
   "source": [
    "Quelle est la complexité de la multiplication de matrices ?"
   ]
  },
  {
   "cell_type": "markdown",
   "id": "LR41w6r_omkT",
   "metadata": {
    "id": "LR41w6r_omkT"
   },
   "source": [
    "1. Step 1 : Vérifier que l'input est une matrice.\n",
    "\n",
    "Cette fonction prend comme paramètre la matrice (C) et sa taille (o). On commence par mettre en place la taille de référence des rows de la matrice, celle-ci étant la première ligne de la matrice. Si la taille des autres lignes lui sont équivalentes, continuer. Sinon, retourner `False`.\n",
    "\n",
    "\n",
    "2. Step 2: Vérifier que les matrices peuvent être multipliées l'une à l'autre.\n",
    "\n",
    "Ici, le but est de vérifier que les dimensions des matrices en argument sont compatible pour pouvoir les multiplier l'une à l'autre. Si le nombre de colonnes de la 1re matrice (le nombre d'éléments de A[0]) est n'est pas égale au nombre de lignes de la matrice B (le nombre d'éléments de B), retourner `False`.\n",
    "\n",
    "\n",
    "3. Step 3: Multiplication\n",
    "\n",
    "La variable `result` représente la matrice résultante de la multiplication avec len(A) le nombre de lignes et len(B[0]) le nombre de colonne. Les 3 premières conditions de la loop `if` sont que si le résultat de l'étape 1 == Faux, s'arreter là, de même si l'étape 2 == Faux. Sinon, procéder à la multiplication.\n"
   ]
  },
  {
   "cell_type": "markdown",
   "id": "bd6bd0c1-822d-47dc-aff2-2a0e4d1f0bf7",
   "metadata": {
    "id": "bd6bd0c1-822d-47dc-aff2-2a0e4d1f0bf7"
   },
   "source": [
    "## Exercise 2 -Tours de Hanoï\n",
    "Implémentez une solution récursive du jeu des Tours de Hanoï. Le jeu consiste à déplacer des disques de différents diamètres d'une tour de départ à une tour d'arrivée, **_en passant par une tour intermédiaire_**. Dans cette version du jeu, il n'y a que 3 tours : la tour de gauche, celle du milieu et celle de droite. La solution correcte doit déplacer tous les disques de leur tour de départ vers la tour de destination en effectuant le nombre minimum d'étapes et en respectant les règles suivantes :\n",
    "\n",
    "* il n'est possible de déplacer qu'un seul disque à la foi\n",
    "* il est possible de déplacer un disque seulement au-dessus d'un disque plus grand ou dans une tour vide\n",
    "\n",
    "Dans la phase initiale, il y a **N** disques dans la tour de départ, et les deux autres tours sont vides. Chaque disque comporte un disque plus grand en dessous de lui, à l'exception du disque le plus bas, et un disque plus petit au-dessus de lui, à l'exception du disque le plus haut.\n",
    "\n",
    "\n",
    "Le programme principal doit prendre **N** comme paramètre d'entrée. L'output du programme est la séquence de pas effectués pour déplacer tous les disques dans la tour d'arrivée. L'exercice ne nécessite pas d'implémenter une interface graphique pour visualiser les mouvements des disques.\n",
    "\n",
    "Exemple d'output for N=3:\n",
    "\n",
    "[step 1] Move disk 1 from A to C\n",
    "\n",
    "[step 2] Move disk 2 from A to B\n",
    "\n",
    "[step 3] Move disk 1 from C to B\n",
    "\n",
    "[step 4] Move disk 3 from A to C\n",
    "\n",
    "[step 5] Move disk 1 from B to A\n",
    "\n",
    "[step 6] Move disk 2 from B to C\n",
    "\n",
    "[step 7] Move disk 1 from A to C"
   ]
  },
  {
   "cell_type": "code",
   "execution_count": 83,
   "id": "6f501f1b-c57f-4537-b843-93cc508b923b",
   "metadata": {
    "id": "6f501f1b-c57f-4537-b843-93cc508b923b"
   },
   "outputs": [],
   "source": [
    "counter = 0\n",
    "def hanoi(n: int, startTower: int, goalTower: int, auxTower: int): \n",
    "    # n => nombre de disques, startTower => tour de départ, goalTower => tour d'arrivée, auxTower => tour intermédiaire\n",
    "    global counter    \n",
    "    \n",
    "    if n == 1:\n",
    "        # Cas particulier\n",
    "        print(f\"[step {counter+1}] Move disc {n} from {startTower} to {goalTower}\")\n",
    "        counter += 1\n",
    "        return\n",
    "    \n",
    "    # Cas général\n",
    "    hanoi(n - 1, startTower, auxTower, goalTower)\n",
    "    print(f\"[step {counter+1}] Move disc {n} from {startTower} to {goalTower}\")\n",
    "    counter += 1\n",
    "    hanoi(n - 1, auxTower, goalTower, startTower)\n",
    "        \n",
    "    #return None\n"
   ]
  },
  {
   "cell_type": "code",
   "execution_count": 84,
   "id": "7e016f1d",
   "metadata": {
    "id": "7e016f1d"
   },
   "outputs": [
    {
     "name": "stdout",
     "output_type": "stream",
     "text": [
      "[step 1] Move disc 1 from A to B\n",
      "[step 2] Move disc 2 from A to C\n",
      "[step 3] Move disc 1 from B to C\n",
      "\n",
      "[step 1] Move disc 1 from A to C\n",
      "[step 2] Move disc 2 from A to B\n",
      "[step 3] Move disc 1 from C to B\n",
      "[step 4] Move disc 3 from A to C\n",
      "[step 5] Move disc 1 from B to A\n",
      "[step 6] Move disc 2 from B to C\n",
      "[step 7] Move disc 1 from A to C\n"
     ]
    }
   ],
   "source": [
    "hanoi(2, 'A', 'C', 'B')\n",
    "print()\n",
    "counter = 0\n",
    "hanoi(3, 'A', 'C', 'B')"
   ]
  },
  {
   "cell_type": "markdown",
   "id": "85d504c1-3064-4df1-8d3d-f8703c9b64ee",
   "metadata": {
    "id": "85d504c1-3064-4df1-8d3d-f8703c9b64ee"
   },
   "source": [
    "### Explications"
   ]
  },
  {
   "cell_type": "markdown",
   "id": "55dd4727-de5d-4c43-81f8-6009efda9846",
   "metadata": {
    "id": "55dd4727-de5d-4c43-81f8-6009efda9846"
   },
   "source": [
    "Si n vaut 1, déplacer le disque de `A` vers `C`.\n",
    "Sinon:\n",
    "1. Déplacer n-1 disques de `A` vers `B` via `C`\n",
    "2. Déplacer le disque n de `A` vers `C` (cas simple)\n",
    "3. Déplacer n-1 disques de `B` vers `C` via A"
   ]
  },
  {
   "cell_type": "markdown",
   "id": "8cc184ca-9c56-4072-8e89-6dd67e53b173",
   "metadata": {
    "id": "8cc184ca-9c56-4072-8e89-6dd67e53b173"
   },
   "source": [
    "### Exercice 2.1\n",
    "Quel est le rapport entre le nombre total de mouvements de disques et N ? Justifiez votre réponse."
   ]
  },
  {
   "cell_type": "markdown",
   "id": "1639ce2a-fbc0-49b6-a462-50b69ac0158f",
   "metadata": {
    "id": "1639ce2a-fbc0-49b6-a462-50b69ac0158f"
   },
   "source": [
    "Le nombre total de mouvements de disques = (N*2) + 1"
   ]
  }
 ],
 "metadata": {
  "colab": {
   "provenance": []
  },
  "kernelspec": {
   "display_name": "Python 3",
   "language": "python",
   "name": "python3"
  },
  "language_info": {
   "codemirror_mode": {
    "name": "ipython",
    "version": 3
   },
   "file_extension": ".py",
   "mimetype": "text/x-python",
   "name": "python",
   "nbconvert_exporter": "python",
   "pygments_lexer": "ipython3",
   "version": "3.12.5"
  },
  "toc": {
   "base_numbering": 1,
   "nav_menu": {},
   "number_sections": true,
   "sideBar": true,
   "skip_h1_title": false,
   "title_cell": "Table of Contents",
   "title_sidebar": "Contents",
   "toc_cell": false,
   "toc_position": {},
   "toc_section_display": true,
   "toc_window_display": false
  },
  "varInspector": {
   "cols": {
    "lenName": 16,
    "lenType": 16,
    "lenVar": 40
   },
   "kernels_config": {
    "python": {
     "delete_cmd_postfix": "",
     "delete_cmd_prefix": "del ",
     "library": "var_list.py",
     "varRefreshCmd": "print(var_dic_list())"
    },
    "r": {
     "delete_cmd_postfix": ") ",
     "delete_cmd_prefix": "rm(",
     "library": "var_list.r",
     "varRefreshCmd": "cat(var_dic_list()) "
    }
   },
   "types_to_exclude": [
    "module",
    "function",
    "builtin_function_or_method",
    "instance",
    "_Feature"
   ],
   "window_display": false
  }
 },
 "nbformat": 4,
 "nbformat_minor": 5
}
