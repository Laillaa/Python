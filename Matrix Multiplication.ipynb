{
 "cells": [
  {
   "cell_type": "markdown",
   "id": "3753f8ac-fd3a-4817-9c73-7772af832027",
   "metadata": {
    "id": "3753f8ac-fd3a-4817-9c73-7772af832027"
   },
   "source": [
    "# Matrix Multiplication"
   ]
  },
  {
   "cell_type": "markdown",
   "id": "1fb0b066-c859-40a3-a8d6-7bcc656f8764",
   "metadata": {
    "id": "1fb0b066-c859-40a3-a8d6-7bcc656f8764"
   },
   "source": [
    "Vous allez devoir implémenter un algorithme pour trouver la meilleure combinaison dans la multiplication de n matrices  M<sub>1</sub>, ..., M<sub>n</sub> dont le vecteur D=(d<sub>0</sub>,d<sub>1</sub>,...d<sub>n</sub>) fournit les dimenstion de la matrice M<sub>i</sub> = d<sub>i-1</sub> × d<sub>i</sub>\n",
    "\n",
    "Vous devez:\n",
    "* générer un nombre entier aléatoire *random* plus grand ou égal à 3 (le nombre de matrices)  \n",
    "* générer un vecteur de *random*+1 dimensions aléatoires comprises entre, 2 et 19: D<sub>*random*</sub>\n",
    "* générer random matrices à valeurs entières M<sub>i</sub> de dimension d<sub>i-1</sub> × d<sub>i</sub> pour i = 1, ..., *random*\n",
    "* programmer l'algorithme de recherche de la meilleures combinaison\n",
    "* trouver la meilleure combinaison et multiplier leurs matrices selon la meilleure combinaison\n",
    "* tester éventuellement avec des combinaisons aléatoires de leur suite de matrices (pour ce dernier exercice, il faut implémenter un compteur de multiplications scalaires dans la fonction de multiplication matricielle)"
   ]
  },
  {
   "cell_type": "code",
   "execution_count": 1,
   "id": "f7d53256-24f6-4c2c-860f-2b0577daf6db",
   "metadata": {
    "id": "f7d53256-24f6-4c2c-860f-2b0577daf6db"
   },
   "outputs": [],
   "source": [
    "import sys\n",
    "import random\n",
    "import numpy as np\n",
    "\n",
    "\n",
    "class MatrixMult:\n",
    "    nmbre_matr = 1\n",
    "    dimensions = []\n",
    "    MAX_VALUE = sys.maxsize\n",
    "\n",
    "    def __init__(self, dimensions, nmbre_matr):\n",
    "\n",
    "        self.nmbre_matr = nmbre_matr\n",
    "        self.dimensions = dimensions\n",
    "        self.best_pivot = [[0 for i in range(nmbre_matr+1)] for j in range(nmbre_matr+1)]\n",
    "        self.pivots_in_postorder = []\n",
    "\n",
    "\n",
    "\n",
    "    def best_n_mult(self,high):\n",
    "        #print(high) doesn't help us that much, too much values, confusion\n",
    "        best_value = [[0 for i in range(high+1)] for j in range(high+1)]\n",
    "        h=2\n",
    "        while h<=high:\n",
    "            l=h-2\n",
    "            while l>=0:\n",
    "                min_n_mult = self.MAX_VALUE+1\n",
    "                i=l+1\n",
    "                while i<=h-1:\n",
    "                    n_mult = self.dimensions[l]*self.dimensions[i]*self.dimensions[h] + best_value[l][i] + best_value[i][h]\n",
    "                    if min_n_mult > n_mult:\n",
    "                        min_n_mult = n_mult\n",
    "                        self.best_pivot[l][h] = i\n",
    "                    i+=1\n",
    "                best_value[l][h] = min_n_mult\n",
    "                #print(l,h,best_value[l][h]) same argument\n",
    "                l-=1\n",
    "            h+=1\n",
    "        #print(best_value) same argument\n",
    "        return best_value[0][high]\n",
    "\n",
    "    def write_pivots_in_postorder(self,l,h):\n",
    "        if ( l+1 < h ):\n",
    "            b = self.best_pivot[l][h]\n",
    "            self.write_pivots_in_postorder(l, b)\n",
    "            self.write_pivots_in_postorder(b, h)\n",
    "            self.pivots_in_postorder.append(b)\n",
    "            #print(b)\n",
    "\n",
    "# A COMPLETER\n",
    "\n",
    "# Pour Step 2 (Step 1 in the next cell)\n",
    "def d_random(n):\n",
    "    return [random.randint(2,19) for i in range(n+1)]\n",
    "\n",
    "# Pour Step 3\n",
    "def matrice_i (x,y):\n",
    "  matrix = []\n",
    "  for i in range (x):\n",
    "    matrix.append([0]*y)\n",
    "    for j in range(y):\n",
    "      matrix[i][j] = random.randint(-100,100)\n",
    "\n",
    "  return matrix\n",
    "\n",
    "def best_algo (dim , n) :\n",
    "  m = MatrixMult(dim , n)\n",
    "  m.best_n_mult(n)\n",
    "  m.write_pivots_in_postorder(0,n)\n",
    "  return m.pivots_in_postorder\n",
    "\n",
    "\n",
    "def do_operation(pivot1, matrices):\n",
    "    matrices = [np.array(m) for m in matrices]  # Convert to numpy arrays\n",
    "    for k in range(len(pivot1)):\n",
    "        j = pivot1[k]\n",
    "        new_matrix = np.matmul(matrices[j-1], matrices[j])\n",
    "        matrices[j-1] = new_matrix\n",
    "        matrices.pop(j)\n",
    "\n",
    "        for k in range(len(pivot1)):\n",
    "            if pivot1[k] > j:\n",
    "                pivot1[k] -= 1\n",
    "\n",
    "    return matrices[0].tolist()\n",
    "\n"
   ]
  },
  {
   "cell_type": "code",
   "execution_count": null,
   "id": "54af1498",
   "metadata": {
    "colab": {
     "base_uri": "https://localhost:8080/"
    },
    "executionInfo": {
     "elapsed": 2,
     "status": "ok",
     "timestamp": 1731093068017,
     "user": {
      "displayName": "Reo",
      "userId": "13442768008055182179"
     },
     "user_tz": -60
    },
    "id": "54af1498",
    "outputId": "31f4c4ae-176d-4b3a-ad66-cfada48b34b7"
   },
   "outputs": [
    {
     "name": "stdout",
     "output_type": "stream",
     "text": [
      "[[1241960482832997861, -7599321755830150053, 7084562682940331334, -3842945557067197380, -5102674466086006581, 6086408355096114241, -1411311271622572668, 5288027311478052690, -2494725976280983855, 3097318299898629074, 1283137108087773340, -5377407762157791469, 3708044415636916822, 1564154522448317654], [2963662655117978808, -3718824955409996464, 3683658949227216312, 2798454845130690136, 5128035314677723392, -7994712691561605608, 872144729774214016, 2519586825916906792, 7724601779821883456, -5363418875509942272, -5403817781113867136, -5767927842982181728, 5029836594843047920, 5992891370836719848], [2567493197523291799, -633859392241027247, -3404297595625740342, -9024644211364050132, -1923237246739620847, 3255990707299062347, -8467682977255894452, 3127193705744845278, -8107882559467126077, -8958395281215879018, -7055375705027700204, -7452391087687411319, -9108086365295560174, 1365523554176025962], [-5922341420479658761, -7132978545424349991, -1523909854028907502, -2613699329141230972, -1108068155717460983, -924079385708393493, -7870501889522592916, 6413250905300436662, -5293401128967806869, -6599465756030244634, -6884920462178019852, -6899772224045611039, -5928843302210566606, 5763989690461999778], [2172370991832186387, -6072220464497954707, -6763023243876639222, 2411012235184275108, -442724760366520579, -6458254147987863465, -6904927127362487332, 5785221355322111646, -9162938604289235705, 3703260894722572382, 1343157171294554372, -1631568337834397579, 7984307829691318714, 2119205885879396474], [-4036150959566409067, 7923680482753312739, -3502343515385595266, -1202632338353896316, -8612209569921332829, 724017164941511537, -3985761868086004700, 9021381326691254010, 6406516605900355993, 6296915396138975074, 3862002575887550204, -8250334541349182581, -3563326694997638250, 6705762523905748190], [7014041672680900685, -1440169818013979221, -6589751193916397554, -5331367264455175260, -358861603008772373, 1024887573934917833, -5562272670464652412, -1306486144488432726, 3999689160517651441, -7605830667289221998, 7405504959420613276, -1114681437450849389, 4082563719341286694, -2628348181535466258], [8051261440533882220, 7952239973867678396, 6585718822623691312, -970419138411209048, 8874278805266747628, -3386062561422010180, 1025319752577951888, -5902424390171977584, 2031387938358926020, -3288263681422254136, 911101287455619056, -5934947944357940692, 5981398787446392968, 300973496744057440], [-4678500975608041455, 538544640890913655, 4278056458213607830, -8810254883428809276, 4878845534282095831, 3565339504579891645, 4323109478856665492, 4800126714331678274, -2188798894481798667, -8203516693845611430, -2978317837454357236, 7950368814968700383, -7168575298583240994, -2376436034121442794], [-716648706473205275, 5840414659068373443, -9197238350960324658, 2257336429797810580, -7747905787206897757, 824382645200391937, 7032198614369052964, -6896390396265523478, 2910852561683325721, -4892587093562552478, 2733016439862743548, 5091286250316170059, -3381745411466811082, 1996918028368479054], [-2930819863882490909, -3435424054159628163, 7665507739175361226, -5788652487319738492, 5836219605896598861, -1419788640710408473, 7073118078759178652, 6658528721512334558, 1892580433337852919, 2854977640095894846, -2496901983067906748, -5694392456282599483, 5927814383489171098, 7183535740218897274], [-4953320846966697572, 1866863510363719812, 8681464989903574312, -5563989113284001488, 3473466409020335748, -1599324188529978516, -1225109122714717136, -6142134542709651080, -378376785559194164, -1908047895226788904, 8959461317233721680, -924278215925131164, -3242270099827693624, 8223049220535389864]]\n"
     ]
    }
   ],
   "source": [
    "import numpy as np\n",
    "import random\n",
    "\n",
    "# Step 1\n",
    "n = random.randint(3,100)\n",
    "\n",
    "# Step 2\n",
    "vecteur = d_random(n)\n",
    "\n",
    "# Step 3\n",
    "list_matrice = []\n",
    "for i in range(n):\n",
    "  list_matrice.append(matrice_i(vecteur[i],vecteur[i+1]))\n",
    "\n",
    "# Step 4\n",
    "pivot2 = best_algo(vecteur, n)\n",
    "matrice2 = list_matrice.copy()\n",
    "\n",
    "m = do_operation(pivot2,matrice2)\n",
    "print(m)"
   ]
  },
  {
   "cell_type": "code",
   "execution_count": null,
   "id": "c1fd10ee-e325-40e9-8e21-081905a50ec5",
   "metadata": {
    "colab": {
     "base_uri": "https://localhost:8080/"
    },
    "executionInfo": {
     "elapsed": 289,
     "status": "ok",
     "timestamp": 1731088804868,
     "user": {
      "displayName": "Laila Ibrahim",
      "userId": "01691221233777737011"
     },
     "user_tz": -60
    },
    "id": "c1fd10ee-e325-40e9-8e21-081905a50ec5",
    "outputId": "cecf44eb-4449-4834-943d-132102bd897d"
   },
   "outputs": [
    {
     "name": "stdout",
     "output_type": "stream",
     "text": [
      "Dimensions vector:\n",
      "5 [3, 3, 3, 3, 2, 2]\n",
      "\n",
      "\"Random\" matrices: \n",
      "[[[10, 6, 19], [7, 16, 13], [8, 12, 18]], [[13, 20, 14], [6, 8, 5], [14, 3, 9]], [[15, 18, 1], [7, 7, 6], [6, 20, 17]], [[4, 1], [14, 14], [15, 9]], [[6, 10], [17, 17]]]\n",
      "\n",
      "best_n_mult: \n",
      "\n",
      "write_pivots_in_postorder: \n",
      "\n",
      "Final matrix:\n",
      "[[7782820, 9373872], [6874034, 8281554], [7700480, 9274968]]\n"
     ]
    }
   ],
   "source": [
    "# Nous vous mettons à disposition une matrice pour que vous puissiez tester votre algorithme de multiplication matricielle.\n",
    "# Vous devez quand même implémenter la partie \"aléatoire\" demandée et la tester vous-même.\n",
    "dimensions = [3, 3, 3, 3, 2, 2]\n",
    "nmbre_matr = 5\n",
    "# Il y avait une erreur ici. On avait 2 au lieu de 5 et alors ça donnait AssertionError pour la dernière ligne de code\n",
    "# (Cette ligne : assert final_matrix == [[7782820,9373872],[6874034,8281554],[7700480,9274968]])\n",
    "print(\"Dimensions vector:\")\n",
    "print(nmbre_matr, dimensions)\n",
    "print()\n",
    "\n",
    "print(\"\\\"Random\\\" matrices: \")\n",
    "# Vous pouvez convertir l'équivalent de cette matrice 3D en la structure de données que vous avez implémentée\n",
    "matrices = [[[10,6,19],[7,16,13],[8,12,18]],\n",
    "            [[13,20,14],[6,8,5],[14,3,9]],\n",
    "            [[15,18,1],[7,7,6],[6,20,17]],\n",
    "            [[4,1],[14,14],[15,9]],\n",
    "            [[6,10],[17,17]]]\n",
    "print(matrices)\n",
    "print()\n",
    "a = MatrixMult(dimensions, nmbre_matr)\n",
    "print(\"best_n_mult: \")\n",
    "a.best_n_mult(nmbre_matr)\n",
    "print()\n",
    "print(\"write_pivots_in_postorder: \")\n",
    "a.write_pivots_in_postorder( 0, nmbre_matr)\n",
    "print()\n",
    "\n",
    "# Fonction qui multiplie les matrices dans le bon ordre.\n",
    "# Vous n'êtes pas obligé de l'utiliser et vous pouvez utiliser une autre fonction que vous avez créée.\n",
    "# Si c'est le cas, apportez les modifications nécessaires ici pour que l'assertion fonctionne\n",
    "pivots = a.pivots_in_postorder\n",
    "final_matrix = do_operation(pivots, matrices)\n",
    "\n",
    "print(\"Final matrix:\")\n",
    "print(final_matrix)\n",
    "assert final_matrix == [[7782820,9373872],[6874034,8281554],[7700480,9274968]]"
   ]
  },
  {
   "cell_type": "markdown",
   "id": "2ca32f2e-e995-477c-8535-62f6e42dc093",
   "metadata": {
    "id": "2ca32f2e-e995-477c-8535-62f6e42dc093"
   },
   "source": [
    "### Explications"
   ]
  },
  {
   "cell_type": "markdown",
   "id": "f5a17952-cba5-4bc4-9a41-aa68a0b0d806",
   "metadata": {
    "id": "f5a17952-cba5-4bc4-9a41-aa68a0b0d806"
   },
   "source": [
    "Pour répondre aux pré-requis, j'ai implémenté 4 fonctions, chaque fonction répondant à un pré-requis:\n",
    "\n",
    "`d_random(n)` : prend en compte un nombre entier aléatoire >= 3 (le nombre de matrices) et retourne un vecteur de *random*+1 dimensions aléatoires comprises entre 2 et 19.\n",
    "\n",
    "`matrice_i(x,y)` : sert à générer random matrices à valeurs entières M<sub>i</sub> de dimension d<sub>i-1</sub> × d<sub>i</sub> pour i = 1, ..., *random*. Pour cela, elle prend en paramètre les dimensions voulues (dans ce cas x et y).\n",
    "\n",
    "`best_algo(dim,n)` : Cette fonction permet de recherche de la meilleures combinaison pour une multiplication efficace et qui permettera d'avoir des coûts moins élevés.\n",
    "\n",
    "`do_operation(pivot1, matrices)` : permet de trouver la meilleure combinaison et multiplier leurs matrices selon celle-ci. Et pour cela, elle prend en paramètre la liste de pivot et la liste de matrice."
   ]
  }
 ],
 "metadata": {
  "colab": {
   "provenance": []
  },
  "kernelspec": {
   "display_name": "Python 3",
   "language": "python",
   "name": "python3"
  },
  "language_info": {
   "codemirror_mode": {
    "name": "ipython",
    "version": 3
   },
   "file_extension": ".py",
   "mimetype": "text/x-python",
   "name": "python",
   "nbconvert_exporter": "python",
   "pygments_lexer": "ipython3",
   "version": "3.13.0"
  }
 },
 "nbformat": 4,
 "nbformat_minor": 5
}
