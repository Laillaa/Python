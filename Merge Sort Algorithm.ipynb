{
 "cells": [
  {
   "cell_type": "markdown",
   "metadata": {
    "id": "_h4BYfsznvKu"
   },
   "source": [
    "# Merge Sort Algorithm"
   ]
  },
  {
   "cell_type": "markdown",
   "metadata": {
    "id": "je6SRoEaqC4S"
   },
   "source": [
    "Le tri par fusion (merge sort) est l'algorithme classique de type  `diviser pour régner`. Implémentez et analysez-le en essayant de grands inputs. Assurez-vous d'essayer des inputs à la fois distribués de manière aléatoire et triés par ordre décroissant."
   ]
  },
  {
   "cell_type": "code",
   "execution_count": null,
   "metadata": {
    "id": "W8yWdftjqGpJ"
   },
   "outputs": [],
   "source": [
    "def merge(a1, a2):        # a1 et a2 sont des tableaux triés\n",
    "    i = 0\n",
    "    j = 0\n",
    "    n = len(a1) + len(a2)\n",
    "    m = [0.0 for i in range(n)]\n",
    "    k=0\n",
    "    while k<n:\n",
    "        if i==len(a1):\n",
    "            m[k] = a2[j]\n",
    "            j+=1\n",
    "            if j==len(a2):\n",
    "                break\n",
    "        elif j==len(a2):\n",
    "            m[k] = a1[i]\n",
    "            i+=1\n",
    "            if i==len(a1):\n",
    "                break\n",
    "        elif a1[i]< a2[j]:\n",
    "            m[k] = a1[i]\n",
    "            i+=1\n",
    "        else:\n",
    "            m[k] = a2[j]\n",
    "            j+=1\n",
    "        k+=1\n",
    "    return m\n",
    "\n",
    "\n",
    "def merge_sort(liste):\n",
    "\n",
    "    if len(liste) == 1:\n",
    "        return liste\n",
    "\n",
    "    elif len(liste) == 2:\n",
    "        if liste[0] > liste[1]:\n",
    "            liste[0], liste[1] = liste[1], liste[0]\n",
    "        return liste\n",
    "\n",
    "    else:\n",
    "\n",
    "        n = len(liste) // 2\n",
    "\n",
    "        a1 = liste[:n] # moitié gauche\n",
    "        a2 = liste[n:] # moitié droite\n",
    "\n",
    "        m1 = merge_sort(a1) # moitié gauche triée\n",
    "        m2 = merge_sort(a2) # moitié droite triée\n",
    "\n",
    "        m = merge(m1, m2) # merge the two lists\n",
    "\n",
    "        return m"
   ]
  },
  {
   "cell_type": "code",
   "execution_count": null,
   "metadata": {
    "colab": {
     "base_uri": "https://localhost:8080/"
    },
    "id": "l70RaWskqGAF",
    "outputId": "b50bee67-a8dc-478c-c914-b0c2aeb4013d"
   },
   "outputs": [
    {
     "name": "stdout",
     "output_type": "stream",
     "text": [
      "Initial list (random order): \n",
      "[2042, 2140, 3495, 2050, 1490, 2116, 2077, 3118, 3251, 403, 1189, 1782, 2031, 34, 3509, 558, 4458, 2530, 430, 4979]\n",
      "My sorted list\n",
      "[34, 403, 430, 558, 1189, 1490, 1782, 2031, 2042, 2050, 2077, 2116, 2140, 2530, 3118, 3251, 3495, 3509, 4458, 4979]\n",
      "Python sorted list\n",
      "[34, 403, 430, 558, 1189, 1490, 1782, 2031, 2042, 2050, 2077, 2116, 2140, 2530, 3118, 3251, 3495, 3509, 4458, 4979]\n",
      "\n",
      "Initial list (descending order): \n",
      "[4748, 4657, 4440, 3863, 3699, 3636, 3313, 3234, 3206, 3203, 2934, 2568, 2512, 1533, 1481, 1302, 1264, 1215, 1203, 991, 349, 293, 235, 183, 112]\n",
      "My sorted list\n",
      "[112, 183, 235, 293, 349, 991, 1203, 1215, 1264, 1302, 1481, 1533, 2512, 2568, 2934, 3203, 3206, 3234, 3313, 3636, 3699, 3863, 4440, 4657, 4748]\n",
      "Python sorted list\n",
      "[112, 183, 235, 293, 349, 991, 1203, 1215, 1264, 1302, 1481, 1533, 2512, 2568, 2934, 3203, 3206, 3234, 3313, 3636, 3699, 3863, 4440, 4657, 4748]\n"
     ]
    }
   ],
   "source": [
    "import random\n",
    "random_list = []\n",
    "for i in range(0,20):\n",
    "    n = random.randint(1,5000)\n",
    "    random_list.append(n)\n",
    "\n",
    "print(\"Initial list (random order): \")\n",
    "print(random_list)\n",
    "print(\"My sorted list\")\n",
    "my_sorted_list = merge_sort(random_list.copy())\n",
    "print(my_sorted_list)\n",
    "print(\"Python sorted list\")\n",
    "python_sorted_list = random_list.copy()\n",
    "python_sorted_list.sort()\n",
    "print(python_sorted_list)\n",
    "assert my_sorted_list == python_sorted_list, \"The list is not correctly sorted\"\n",
    "\n",
    "print()\n",
    "random_list = []\n",
    "for i in range(0,25):\n",
    "    n = random.randint(1,5000)\n",
    "    random_list.append(n)\n",
    "\n",
    "print(\"Initial list (descending order): \")\n",
    "random_list.sort()\n",
    "random_list.reverse()\n",
    "print(random_list)\n",
    "print(\"My sorted list\")\n",
    "my_sorted_list = merge_sort(random_list.copy())\n",
    "print(my_sorted_list)\n",
    "print(\"Python sorted list\")\n",
    "python_sorted_list = random_list.copy()\n",
    "python_sorted_list.sort()\n",
    "print(python_sorted_list)\n",
    "assert my_sorted_list == python_sorted_list, \"The list is not correctly sorted\""
   ]
  },
  {
   "cell_type": "markdown",
   "metadata": {
    "id": "BaLFl1rohJuY"
   },
   "source": [
    "### Explications"
   ]
  },
  {
   "cell_type": "markdown",
   "metadata": {
    "id": "eHZGIjTqhJuY"
   },
   "source": [
    "100% Laila Ibrahim\n",
    "\n",
    "J'ai commencé par mettre en place la fonction `merge` fusionne les sous-tableaux (qui seront crées par `merge_sort`) de manière triée.\n",
    "\n",
    "Ensuite, j'ai mis en place la fonction `merge_sort` qui prend un tableau, le divise en deux et s'appelle elle-même avec chaque moitié de ce tableau, de sorte que les tableaux se divisent encore et encore de manière récursive, jusqu'à ce que chaque sous-tableau ne contienne qu'une seule valeur. Elle utilise ensuite la fonction `merge` rendre comme résultat la fusion de ces sous-tableaux"
   ]
  }
 ],
 "metadata": {
  "colab": {
   "provenance": []
  },
  "kernelspec": {
   "display_name": "Python 3",
   "name": "python3"
  },
  "language_info": {
   "codemirror_mode": {
    "name": "ipython",
    "version": 3
   },
   "file_extension": ".py",
   "mimetype": "text/x-python",
   "name": "python",
   "nbconvert_exporter": "python",
   "pygments_lexer": "ipython3",
   "version": "3.13.0"
  }
 },
 "nbformat": 4,
 "nbformat_minor": 0
}
