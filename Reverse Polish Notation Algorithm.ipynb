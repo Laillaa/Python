{
 "cells": [
  {
   "cell_type": "markdown",
   "id": "3753f8ac-fd3a-4817-9c73-7772af832027",
   "metadata": {
    "id": "3753f8ac-fd3a-4817-9c73-7772af832027"
   },
   "source": [
    "# Reverse Polish Notation Algorithm"
   ]
  },
  {
   "cell_type": "markdown",
   "id": "1fb0b066-c859-40a3-a8d6-7bcc656f8764",
   "metadata": {
    "id": "1fb0b066-c859-40a3-a8d6-7bcc656f8764"
   },
   "source": [
    "Ecrivez un programme qui interprête une liste d'instructions en RPN (Reverse Polish Notation).\n",
    "* Si l'instruction est un entier, ajoutez-la au sommet de la pile.\n",
    "* Les opérations + - * / déclenchent un `pop()` des deux derniers nombres de la pile et un `push()` du résultat de l'opération entre ces deux nombres.\n",
    "\n",
    "Exemples:\n",
    "\n",
    "- ```1 4 - 3 *``` donne comme résultat ```-9```\n",
    "\n",
    "- ```3 4 * 6 / 1 2 +``` donne comme résultat ```2 3```\n",
    "\n",
    "Votre solution doit utiliser une pile que vous avez implémentée. Elle doit utiliser une liste (tableau) de taille fixe sans pour autant hériter de `List`. Il faut utiliser les fonctions (que vous devez implémenter) suivantes:"
   ]
  },
  {
   "cell_type": "code",
   "execution_count": 1,
   "id": "c1fd10ee-e325-40e9-8e21-081905a50ec5",
   "metadata": {
    "id": "c1fd10ee-e325-40e9-8e21-081905a50ec5"
   },
   "outputs": [],
   "source": [
    "class MyStack:\n",
    "\n",
    "    def __init__(self, msize: int): \n",
    "        # On a remplacé size par msize car sinon, on avait l'erreur \"int is not callable\" (puisqu'il y a une fonction du même nom) \n",
    "        self.stack = []\n",
    "        self.msize = msize\n",
    "        len(self.stack) == msize\n",
    "        \n",
    "\n",
    "\n",
    "    def print(self):\n",
    "        print(self.stack) # print the result of the calcul \n",
    "        \n",
    "    \n",
    "    def size(self):     \n",
    "        return len(self.stack) # retourne un int\n",
    "\n",
    "\n",
    "\n",
    "    def is_empty(self):\n",
    "        return len(self.stack) == 0\n",
    "\n",
    "\n",
    "\n",
    "    def push(self, o: int): # Throws FullStackException\n",
    "        \n",
    "        if len(self.stack) >= self.msize:\n",
    "            raise FullStackException(\"The stack is full\")\n",
    "        self.stack.append(o)\n",
    "\n",
    "\n",
    "\n",
    "    def pop(self): # Throws VoidStackException\n",
    "\n",
    "        if len(self.stack) == 0:\n",
    "            raise VoidStackException(\"The stack is empty\")\n",
    "        return self.stack.pop()\n",
    "        # retourne un int\n",
    "\n",
    "class Error(Exception):\n",
    "    pass\n",
    "\n",
    "class FullStackException(Error):\n",
    "    pass\n",
    "\n",
    "class VoidStackException(Error):\n",
    "    pass"
   ]
  },
  {
   "cell_type": "code",
   "execution_count": 2,
   "id": "39c64d99-3c68-4a46-9ead-6ab8605a9cf6",
   "metadata": {
    "id": "39c64d99-3c68-4a46-9ead-6ab8605a9cf6"
   },
   "outputs": [
    {
     "name": "stdout",
     "output_type": "stream",
     "text": [
      "[1, 4]\n",
      "[1]\n",
      "[1, 3, 10]\n",
      "[5]\n",
      "[]\n"
     ]
    }
   ],
   "source": [
    "s = MyStack(3)\n",
    "assert s.size() == 0\n",
    "assert s.is_empty() == True\n",
    "s.push(1)\n",
    "s.push(4)\n",
    "s.print()\n",
    "assert s.size() == 2\n",
    "assert s.is_empty() == False\n",
    "assert s.pop() == 4\n",
    "s.print()\n",
    "assert s.size() == 1\n",
    "s.push(3)\n",
    "s.push(10)\n",
    "assert s.size() == 3\n",
    "s.print()\n",
    "try:\n",
    "    s.push(12)\n",
    "    print(\"Erreur: FullStackException doit être levée durant cette opération\")\n",
    "except FullStackException:\n",
    "    pass\n",
    "except:\n",
    "    print(\"Erreur: FullStackException doit être levée durant cette opération\")\n",
    "assert s.pop() == 10\n",
    "assert s.pop() == 3\n",
    "assert s.pop() == 1\n",
    "assert s.size() == 0\n",
    "assert s.is_empty() == True\n",
    "s = MyStack(3)\n",
    "s.push(5)\n",
    "assert s.size() == 1\n",
    "assert s.is_empty() == False\n",
    "s.print()\n",
    "assert s.pop() == 5\n",
    "assert s.size() == 0\n",
    "assert s.is_empty() == True\n",
    "s.print()\n",
    "try:\n",
    "    s.pop()\n",
    "    print(\"Erreur: VoidStackException doit être levée durant cette opération\")\n",
    "except VoidStackException:\n",
    "    pass\n",
    "except:\n",
    "    print(\"Erreur: VoidStackException doit être levée durant cette opération\")"
   ]
  },
  {
   "cell_type": "code",
   "execution_count": 4,
   "id": "cabe813d",
   "metadata": {},
   "outputs": [],
   "source": [
    "# Param:\n",
    "# entry: String[]\n",
    "\n",
    "def rpn(entry : list[str]) -> int:\n",
    "\n",
    "    stack = MyStack(len(entry))\n",
    "       \n",
    "    if stack.is_empty == False:\n",
    "        stack.clear()\n",
    "\n",
    "    for char in entry:\n",
    "            \n",
    "            if char == '+':\n",
    "                stack.push(stack.pop() + stack.pop())\n",
    "            elif char == '-':\n",
    "                a, b = stack.pop(), stack.pop()\n",
    "                stack.push(b - a)\n",
    "            elif char == '/':\n",
    "                a, b = stack.pop(), stack.pop()\n",
    "                stack.push(int(b / a))\n",
    "            elif char == '*':\n",
    "                stack.push(stack.pop() * stack.pop())\n",
    "            else: \n",
    "                stack.push(int(char))\n",
    "\n",
    "    return stack # retourne un objet MyStack"
   ]
  },
  {
   "cell_type": "code",
   "execution_count": 5,
   "id": "18596dc6-a912-422c-9593-2c6ed7f660c9",
   "metadata": {
    "id": "18596dc6-a912-422c-9593-2c6ed7f660c9"
   },
   "outputs": [
    {
     "name": "stdout",
     "output_type": "stream",
     "text": [
      "[-9]\n",
      "[2, 3]\n"
     ]
    }
   ],
   "source": [
    "s = rpn([\"1\",\"4\",\"-\",\"3\",\"*\"])\n",
    "s.print() # doit être \"-9\"\n",
    "s = rpn([\"3\",\"4\",\"*\",\"6\",\"/\",\"1\",\"2\",\"+\"])\n",
    "s.print() # doit être \"2 3\""
   ]
  },
  {
   "cell_type": "markdown",
   "id": "2ca32f2e-e995-477c-8535-62f6e42dc093",
   "metadata": {
    "id": "2ca32f2e-e995-477c-8535-62f6e42dc093"
   },
   "source": [
    "### Explications"
   ]
  },
  {
   "cell_type": "markdown",
   "id": "f5a17952-cba5-4bc4-9a41-aa68a0b0d806",
   "metadata": {
    "id": "f5a17952-cba5-4bc4-9a41-aa68a0b0d806"
   },
   "source": [
    "**Class MyStack**\n",
    "\n",
    "Le but de cette classe est de mettre en place quelques fonctions de base qui permetteront de travailler sur les listes en RPN.\n",
    "\n",
    "**Fonction rpn**\n",
    "\n",
    "C'est dans cette fonction que tout le processus du calcul en RPN se déroule. On commence par appeler la class MyStack, qu'on stock dans la variable stack sur laquelle on va travailler. On commence par s'assurer qu'elle est vide (qu'il n'y a pas de reste des utilisations précédentes). Grâce à la boucle for, on va traverser les éléments de \"entry\". S'il s'agit d'un opérateur, on va retirer (pop()) le nombre approprié d'arguments de la pile, appliquer l'opérateur et push() le résultat sur la pile. S'il s'agit d'un argument, on va le push() directement sur la pile.\n"
   ]
  }
 ],
 "metadata": {
  "colab": {
   "provenance": []
  },
  "kernelspec": {
   "display_name": "Python 3",
   "language": "python",
   "name": "python3"
  },
  "language_info": {
   "codemirror_mode": {
    "name": "ipython",
    "version": 3
   },
   "file_extension": ".py",
   "mimetype": "text/x-python",
   "name": "python",
   "nbconvert_exporter": "python",
   "pygments_lexer": "ipython3",
   "version": "3.12.6"
  }
 },
 "nbformat": 4,
 "nbformat_minor": 5
}
