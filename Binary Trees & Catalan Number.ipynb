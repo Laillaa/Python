{
 "cells": [
  {
   "cell_type": "markdown",
   "id": "967fe467",
   "metadata": {},
   "source": [
    "# Binary trees & Catalan number"
   ]
  },
  {
   "cell_type": "markdown",
   "id": "1fb0b066-c859-40a3-a8d6-7bcc656f8764",
   "metadata": {
    "id": "1fb0b066-c859-40a3-a8d6-7bcc656f8764"
   },
   "source": [
    "Concevez un algorithme pour **énumérer tous les arbres binaires** d'une taille N donnée, où N correspond au nombre de noeuds (vertex) ; le N ne prend pas en compte les feuilles. Les noeuds feuilles sont représentés par ceci \"(..)\": une parenthèse ouverte '(', deux points '..' - représentant les deux feuilles- et une parenthèse fermée ')'.\n",
    "\n",
    "Le programme final doit afficher la liste des arbres binaires de la taille spécifiée, un arbre par ligne. Pour N=3, il y a un total de 5 arbres binaires. L'output doit être une séquence de parenthèses et points, comme ceci:\n",
    "\n",
    "    (((..).).)\n",
    "    ((.(..)).)\n",
    "    ((..)(..))\n",
    "    (.((..).))\n",
    "    (.(.(..)))\n",
    "    \n",
    "Implémentez et testez un algorithme récursif qui résout le problème. Donnez une solution pour N=[1,10]\n",
    "\n",
    "Pour tester votre solution (\"est-ce que la solution retourne le nombre correct d'arbres?\"), vous devez lire, ~comprendre, implémenter et tester la formule qui calcule le nombre de Catalan pour un N donné:\n",
    "\n",
    "C<sub>n</sub> = $\\frac{(2n)!}{(n+1)!n!}$\n",
    "\n",
    "Aide: https://fr.wikipedia.org/wiki/Nombre_de_Catalan"
   ]
  },
  {
   "cell_type": "code",
   "execution_count": null,
   "id": "0b384913",
   "metadata": {},
   "outputs": [],
   "source": [
    "import math\n",
    "def catalan_nb(n: int) -> int:\n",
    "    return math.comb(2 * n, n) // (n + 1)"
   ]
  },
  {
   "cell_type": "code",
   "execution_count": 4,
   "id": "f7d53256-24f6-4c2c-860f-2b0577daf6db",
   "metadata": {
    "id": "f7d53256-24f6-4c2c-860f-2b0577daf6db"
   },
   "outputs": [
    {
     "name": "stdout",
     "output_type": "stream",
     "text": [
      "1 2 5 14 42 132 429 1430 4862 16796 "
     ]
    }
   ],
   "source": [
    "def catalan_nb(n: int):\n",
    "\n",
    "    if n < 0 :\n",
    "        return exit\n",
    "  \n",
    "    elif n <= 1:\n",
    "        return 1 \n",
    "    \n",
    "    # Recursive Case\n",
    "    # catalan_nb(n) is the sum of catalan_nb(i)*catalan_nb(n-i-1)\n",
    "    res = 0\n",
    "    for i in range(n):\n",
    "        res += catalan_nb(i) * catalan_nb(n-i-1) \n",
    " \n",
    "    return res\n",
    "\n",
    "\n",
    "for i in range(1, 11, 1):  \n",
    "    print(catalan_nb(i), end=' ')\n"
   ]
  },
  {
   "cell_type": "code",
   "execution_count": 17,
   "id": "c1fd10ee-e325-40e9-8e21-081905a50ec5",
   "metadata": {
    "id": "c1fd10ee-e325-40e9-8e21-081905a50ec5"
   },
   "outputs": [],
   "source": [
    "assert catalan_nb(3) == 5\n",
    "assert catalan_nb(5) == 42\n",
    "assert catalan_nb(8) == 1430"
   ]
  },
  {
   "cell_type": "code",
   "execution_count": 5,
   "id": "606f188a-c1c6-4632-8388-a0aa9a7c5e7e",
   "metadata": {
    "id": "606f188a-c1c6-4632-8388-a0aa9a7c5e7e",
    "tags": []
   },
   "outputs": [
    {
     "name": "stdout",
     "output_type": "stream",
     "text": [
      "(.(.(..)))\n",
      "(.((..).))\n",
      "((..)(..))\n",
      "((.(..)).)\n",
      "(((..).).)\n"
     ]
    }
   ],
   "source": [
    "def get_all_B_Trees(n):\n",
    "    \n",
    "    # Base case\n",
    "\n",
    "    if n == 0:\n",
    "        return [ \".\" ]\n",
    "    \n",
    "    # Recursive case\n",
    "    \n",
    "    else:\n",
    "\n",
    "        trees = []\n",
    "\n",
    "        for left_nodes in range(n):\n",
    "            for left_tree in get_all_B_Trees(left_nodes):\n",
    "                for right_tree in get_all_B_Trees(n - left_nodes - 1):\n",
    "                    tree = \"(\" + left_tree + right_tree + \")\" \n",
    "                    trees.append(tree)\n",
    "        \n",
    "        return trees\n",
    "    \n",
    "for tree in get_all_B_Trees(3):\n",
    "    print(tree)"
   ]
  },
  {
   "cell_type": "markdown",
   "id": "3aa59e32-d9bb-4f5b-93f6-8298879a8bfe",
   "metadata": {
    "id": "3aa59e32-d9bb-4f5b-93f6-8298879a8bfe"
   },
   "source": [
    "Ecrivez ci-dessous votre réponse pour N=[1,10]\n",
    "\n",
    "For N = 1 :\n",
    "catalan_nb = 1 \n",
    "\n",
    "For N = 2 :\n",
    "catalan_nb = 2 \n",
    "\n",
    "For N = 3 :\n",
    "catalan_nb = 5\n",
    "\n",
    "For N = 4 :\n",
    "catalan_nb = 14\n",
    "\n",
    "For N = 5 :\n",
    "catalan_nb = 42\n",
    "\n",
    "For N = 6 :\n",
    "catalan_nb = 132\n",
    "\n",
    "For N = 7 :\n",
    "catalan_nb = 429\n",
    "\n",
    "For N = 8 :\n",
    "catalan_nb = 1430\n",
    "\n",
    "For N = 9 :\n",
    "catalan_nb = 4862\n",
    "\n",
    "For N = 10 :\n",
    "catalan_nb = 16796"
   ]
  },
  {
   "cell_type": "markdown",
   "id": "2ca32f2e-e995-477c-8535-62f6e42dc093",
   "metadata": {
    "id": "2ca32f2e-e995-477c-8535-62f6e42dc093",
    "tags": []
   },
   "source": [
    "### Explications"
   ]
  },
  {
   "cell_type": "markdown",
   "id": "f5a17952-cba5-4bc4-9a41-aa68a0b0d806",
   "metadata": {
    "id": "f5a17952-cba5-4bc4-9a41-aa68a0b0d806"
   },
   "source": [
    "**catalan_nb algorithm #1**\n",
    "The first one, with the math module, is closer to the fraction C<sub>n</sub> = $\\frac{(2n)!}{(n+1)!n!}$, but isn't recursive\n",
    "\n",
    "**catalan_nb algorithm #2**\n",
    "\n",
    "1. Pre-base case : Because we're considering all n >= 0, if n < 0, exit the function\n",
    "2. Base case : The catalan number(s) for 0 and 1 are 1. So if n == 0 or n == 1, return 1.\n",
    "3. Recursive case : For n > 1, the catalan_nb(n) is the sum of catalan_nb(i)*catalan_nb(n-i-1).\n",
    "\n",
    "Pour l'algorithme Catalan, on commence par établir que les chiffres négatifs ne sont pas acceptables. Ensuite lorsque le nombre est entre 0 et 1, mon résultat sera de toute manière 1. Et finalement notre cas récursif, la fonction Catalan est la sommme du nombre de noeuds multipliés par (n- i - 1)\n",
    "\n",
    "**get_all_B_Trees algorithm**\n",
    "\n",
    "1. Base case : if n == 0, then there's still no leaves, only the beginning node, which is \".\".\n",
    "2. Recursive case : the variable \"trees\" represent the list of binary trees according to n. \"(..)\" represents a tree. The first parameter is the left sub-tree and the next one is the right sub-tree.\n",
    "\n",
    "Quand on a aucun noeud c'est N=0, on a une feuille désignée par \".\" (structure fondamentale), c'est le point du début de récursivité. Pour le développement, \"(..)\" représente un arbre la dispersion se fait de manière N-1 noeuds vu que un noeuds c'est une racine d'arbre. Donc pour chaque N on essaie toutes les options possibles de sous-arbres de gauche (left) puis à la droite (right). Exemple : N=3 on a 2 sorties à repartir en sous arbres, nous donnant donc un résultat de 5."
   ]
  },
  {
   "cell_type": "markdown",
   "id": "bd6bd0c1-822d-47dc-aff2-2a0e4d1f0bf7",
   "metadata": {
    "id": "bd6bd0c1-822d-47dc-aff2-2a0e4d1f0bf7"
   },
   "source": [
    "Qu'elle est la complexité en espace/temps de l'algorithme ? Une approximation asymptotique est recommandée. Vous aurez besoin de la formule de Stirling pour cela : $n ! \\approx \\sqrt{2 \\pi n}\\left(\\frac{n}{\\mathrm{e}}\\right)^n$"
   ]
  },
  {
   "cell_type": "markdown",
   "id": "55dd4727-de5d-4c43-81f8-6009efda9846",
   "metadata": {
    "id": "55dd4727-de5d-4c43-81f8-6009efda9846"
   },
   "source": [
    "O($n!$) (asymptotiquement équivalente à O($n^n$))\n",
    "\n",
    "Lorsque l'algorithme implique des factorielles comme la formulation de Stirling le propose, alors on peut faire une séparation et vérifier les asymptotes correctement, avec une complexité générale de O($n!$). Une factorielle est une multiplication de O(n) (la complexité en espace est donc O(n), profondeur linéaire de l'appel récursif). Pour la partie $(\\frac{n}{\\mathrm{e}})^n$ il s'agit a priori d'une partie de complexité O($n^n$)\n",
    "\n",
    "En conclusion, l'algorithme `get_all_B_Trees` possède une complexite en temps exponentielle. Cela est dû à la nature récursive de l’algorithme et à la croissance exponentielle du nombre d’arbres binaires possibles à mesure que l’entrée `n` augmente."
   ]
  }
 ],
 "metadata": {
  "colab": {
   "collapsed_sections": [],
   "provenance": []
  },
  "kernelspec": {
   "display_name": "Python 3",
   "language": "python",
   "name": "python3"
  },
  "language_info": {
   "codemirror_mode": {
    "name": "ipython",
    "version": 3
   },
   "file_extension": ".py",
   "mimetype": "text/x-python",
   "name": "python",
   "nbconvert_exporter": "python",
   "pygments_lexer": "ipython3",
   "version": "3.12.6"
  }
 },
 "nbformat": 4,
 "nbformat_minor": 5
}
